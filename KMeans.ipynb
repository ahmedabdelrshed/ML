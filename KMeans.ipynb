{
 "cells": [
  {
   "cell_type": "code",
   "execution_count": null,
   "id": "0a8c3869",
   "metadata": {},
   "outputs": [],
   "source": [
    "import numpy as np\n",
    "import matplotlib.pyplot as plt\n",
    "from skimage.feature import hog\n",
    "from skimage import exposure\n",
    "import os\n",
    "from skimage import io, color, feature\n",
    "from PIL import Image\n",
    "from sklearn.preprocessing import LabelEncoder, StandardScaler\n",
    "from sklearn.utils import shuffle\n",
    "from sklearn.cluster import KMeans\n",
    "from sklearn.decomposition import PCA"
   ]
  },
  {
   "cell_type": "code",
   "execution_count": null,
   "id": "26fe24e7",
   "metadata": {},
   "outputs": [],
   "source": [
    "# Function to extract HOG features from an image and visualize it\n",
    "def extract_hog_features(image):\n",
    "    # Convert the image to grayscale\n",
    "    gray_image = color.rgb2gray(image)\n",
    "\n",
    "    # Calculate HOG features\n",
    "    hog_features, hog_image = feature.hog(gray_image, visualize=True)\n",
    "\n",
    "    # Enhance the contrast of the HOG image for better visualization\n",
    "    hog_image_rescaled = exposure.rescale_intensity(hog_image, in_range=(0, 10))\n",
    "\n",
    "    return hog_features, hog_image_rescaled\n"
   ]
  },
  {
   "cell_type": "code",
   "execution_count": null,
   "id": "804a40a4",
   "metadata": {},
   "outputs": [],
   "source": [
    "# Path to the root folder of your dataset\n",
    "dataset_path = 'Training-1'\n",
    "\n",
    "# List all subdirectories (assuming each subdirectory corresponds to a class)\n",
    "class_folders = [f.path for f in os.scandir(dataset_path) if f.is_dir()]\n",
    "features_list = []\n",
    "labels_list = []\n",
    "\n",
    "# Loop through each class folder\n",
    "for class_folder in class_folders:\n",
    "    class_name = os.path.basename(class_folder)\n",
    "\n",
    "    # Loop through each image in the class folder\n",
    "    for image_filename in os.listdir(class_folder):\n",
    "        image_path = os.path.join(class_folder, image_filename)\n",
    "\n",
    "        # Load the image\n",
    "        image = io.imread(image_path)\n",
    "        img_pil = Image.fromarray(image)\n",
    "        img_resized = img_pil.resize((128, 128))\n",
    "\n",
    "        # Extract HOG features and visualize\n",
    "        hog_features, hog_image = extract_hog_features(img_resized)\n",
    "\n",
    "        # Display the original image and the HOG features\n",
    "        fig, (ax1, ax2) = plt.subplots(1, 2, figsize=(10, 5), sharex=True, sharey=True)\n",
    "\n",
    "        ax1.axis('off')\n",
    "        ax1.imshow(img_resized, cmap=plt.cm.gray)\n",
    "        ax1.set_title('Original Image')\n",
    "\n",
    "        ax2.axis('off')\n",
    "        ax2.imshow(hog_image, cmap=plt.cm.gray)\n",
    "        ax2.set_title('HOG Features')\n",
    "\n",
    "        plt.show()\n",
    "\n",
    "        # Append HOG features to the features list\n",
    "        features_list.append(hog_features)\n",
    "\n",
    "        # Append the label to the labels list\n",
    "        labels_list.append(class_name)\n"
   ]
  },
  {
   "cell_type": "code",
   "execution_count": null,
   "id": "25f5ce39",
   "metadata": {},
   "outputs": [],
   "source": [
    "# Convert lists to NumPy arrays\n",
    "features_array = np.array(features_list)\n",
    "labels_array = np.array(labels_list)\n",
    "\n",
    "# Use LabelEncoder to convert class names into numeric labels\n",
    "label_encoder = LabelEncoder()\n",
    "numeric_labels = label_encoder.fit_transform(labels_array)\n",
    "\n",
    "print(features_array)\n",
    "print(numeric_labels)"
   ]
  },
  {
   "cell_type": "code",
   "execution_count": null,
   "id": "b9739353",
   "metadata": {},
   "outputs": [],
   "source": [
    "# Standardize the features\n",
    "sc = StandardScaler()\n",
    "features_array = sc.fit_transform(features_array)\n",
    "print(features_array)"
   ]
  },
  {
   "cell_type": "code",
   "execution_count": null,
   "id": "8b9667b8",
   "metadata": {},
   "outputs": [],
   "source": [
    "# Apply PCA to reduce the dimensionality for visualization\n",
    "pca = PCA(n_components=64)\n",
    "features_pca = pca.fit_transform(features_array)"
   ]
  },
  {
   "cell_type": "code",
   "execution_count": null,
   "id": "5a43545a",
   "metadata": {},
   "outputs": [],
   "source": [
    "# Shuffle the data\n",
    "features_array, numeric_labels = shuffle(features_array, numeric_labels, random_state=42)"
   ]
  },
  {
   "cell_type": "code",
   "execution_count": null,
   "id": "b06af80e",
   "metadata": {},
   "outputs": [],
   "source": [
    "# Reshape the data to be a list of 64-dimensional vectors (if you have 64 components after PCA)\n",
    "data = features_pca.reshape((len(features_pca), -1))\n",
    "\n",
    "from sklearn.preprocessing import StandardScaler\n",
    "sc = StandardScaler()\n",
    "data = sc.fit_transform(data)\n",
    "features_array = sc.fit_transform(features_array)\n",
    "print(data[0])\n",
    "# X_test = sc.transform(X_test)"
   ]
  },
  {
   "cell_type": "code",
   "execution_count": null,
   "id": "d6a76580",
   "metadata": {},
   "outputs": [],
   "source": [
    "# Apply k-means clustering\n",
    "n_clusters = len(class_folders)  # Number of clusters based on the number of classes\n",
    "kmeans = KMeans(n_clusters=n_clusters, random_state=42)\n",
    "kmeans.fit(features_array)\n",
    "kmeans.fit(data)"
   ]
  },
  {
   "cell_type": "code",
   "execution_count": null,
   "id": "37fe4d3d",
   "metadata": {},
   "outputs": [],
   "source": [
    "# Visualize the cluster centers (representative images)\n",
    "fig, ax = plt.subplots(1, n_clusters, figsize=(15, 3))\n",
    "\n",
    "for i in range(n_clusters):\n",
    "    center_image = kmeans.cluster_centers_[i].reshape(8, 8)  # Reshape to original dimensions\n",
    "    ax[i].imshow(center_image, cmap='gray')\n",
    "    ax[i].axis('off')\n",
    "    ax[i].set_title(f'Cluster {i}')\n",
    "\n",
    "plt.show()"
   ]
  },
  {
   "cell_type": "code",
   "execution_count": null,
   "id": "f7c977ff",
   "metadata": {},
   "outputs": [],
   "source": [
    "\n",
    "# Predict clusters for the data using the transformed data\n",
    "predicted_clusters = kmeans.predict(features_pca)"
   ]
  },
  {
   "cell_type": "code",
   "execution_count": null,
   "id": "dd129916",
   "metadata": {},
   "outputs": [],
   "source": [
    "# Calculate accuracy\n",
    "from sklearn.metrics import accuracy_score\n",
    "accuracy = accuracy_score(numeric_labels, predicted_clusters)\n",
    "print(f'Accuracy: {accuracy}')"
   ]
  },
  {
   "cell_type": "code",
   "execution_count": null,
   "id": "20aaf741",
   "metadata": {},
   "outputs": [],
   "source": [
    "# Create a scatter plot\n",
    "plt.figure(figsize=(8, 6))\n",
    "for cluster in range(n_clusters):\n",
    "    # Plot points belonging to the cluster\n",
    "    plt.scatter(features_pca[predicted_clusters == cluster, 0],\n",
    "                features_pca[predicted_clusters == cluster, 1],\n",
    "                label=f'Cluster {cluster}', alpha=0.7)\n",
    "\n",
    "# Plot actual classes with different markers\n",
    "for class_label in range(len(class_folders)):\n",
    "    plt.scatter(features_pca[numeric_labels == class_label, 0],\n",
    "                features_pca[numeric_labels == class_label, 1],\n",
    "                label=f'Class {class_label}', marker='x', s=100, edgecolors='k')\n",
    "\n",
    "plt.title('K-means Predicted Clusters vs Actual Classes')\n",
    "plt.xlabel('Principal Component 1')\n",
    "plt.ylabel('Principal Component 2')\n",
    "plt.legend()\n",
    "plt.show()"
   ]
  },
  {
   "cell_type": "code",
   "execution_count": null,
   "id": "f251b132",
   "metadata": {},
   "outputs": [],
   "source": [
    "\n",
    "# # Plot actual classes with different markers\n",
    "for class_label in range(len(class_folders)):\n",
    "    plt.scatter(features_pca[numeric_labels == class_label, 0],\n",
    "                features_pca[numeric_labels == class_label, 1],\n",
    "                label=f'Class {class_label}', marker='x', s=100, edgecolors='k')\n"
   ]
  },
  {
   "cell_type": "code",
   "execution_count": null,
   "id": "c022b158",
   "metadata": {},
   "outputs": [],
   "source": [
    "from sklearn.cluster import KMeans\n",
    "\n",
    "# Replace X with your dataset\n",
    "k_values = range(1, 7)\n",
    "inertia_values = []\n",
    "\n",
    "for k in k_values:\n",
    "    kmeans = KMeans(n_clusters=k, n_init=10,random_state=42)\n",
    "    kmeans.fit(features_array)\n",
    "    inertia_values.append(kmeans.inertia_)"
   ]
  },
  {
   "cell_type": "code",
   "execution_count": null,
   "id": "2f86c719",
   "metadata": {},
   "outputs": [],
   "source": [
    "import matplotlib.pyplot as plt\n",
    "\n",
    "plt.plot(k_values, inertia_values, marker='o')\n",
    "plt.xlabel('Number of Clusters (K)')\n",
    "plt.ylabel('Inertia')\n",
    "plt.title('K-means Inertia vs. Number of Clusters')\n",
    "plt.show()\n"
   ]
  },
  {
   "cell_type": "code",
   "execution_count": null,
   "id": "9186c0cc",
   "metadata": {},
   "outputs": [],
   "source": []
  },
  {
   "cell_type": "code",
   "execution_count": null,
   "id": "2c91b120",
   "metadata": {},
   "outputs": [],
   "source": []
  }
 ],
 "metadata": {
  "kernelspec": {
   "display_name": "Python 3 (ipykernel)",
   "language": "python",
   "name": "python3"
  },
  "language_info": {
   "codemirror_mode": {
    "name": "ipython",
    "version": 3
   },
   "file_extension": ".py",
   "mimetype": "text/x-python",
   "name": "python",
   "nbconvert_exporter": "python",
   "pygments_lexer": "ipython3",
   "version": "3.11.5"
  }
 },
 "nbformat": 4,
 "nbformat_minor": 5
}
