{
 "cells": [
  {
   "cell_type": "markdown",
   "metadata": {},
   "source": [
    "# Traffic sign classification\n",
    "\n"
   ]
  },
  {
   "cell_type": "markdown",
   "metadata": {},
   "source": [
    "# Transfer Learning"
   ]
  },
  {
   "cell_type": "code",
   "execution_count": 1,
   "metadata": {},
   "outputs": [
    {
     "name": "stdout",
     "output_type": "stream",
     "text": [
      "WARNING:tensorflow:From C:\\Users\\Tech Shop\\AppData\\Roaming\\Python\\Python311\\site-packages\\keras\\src\\losses.py:2976: The name tf.losses.sparse_softmax_cross_entropy is deprecated. Please use tf.compat.v1.losses.sparse_softmax_cross_entropy instead.\n",
      "\n"
     ]
    }
   ],
   "source": [
    "import os # work with directory\n",
    "import cv2\n",
    "from tqdm import tqdm\n",
    "import pandas as pd\n",
    "import matplotlib.pyplot as plt\n",
    "import numpy as np\n",
    "img_size = 224\n",
    "from keras.utils import to_categorical"
   ]
  },
  {
   "cell_type": "code",
   "execution_count": 2,
   "metadata": {},
   "outputs": [
    {
     "name": "stdout",
     "output_type": "stream",
     "text": [
      "['00000', '00001', '00002', '00003', '00004', '00005']\n",
      "['00000', '00001', '00002', '00003', '00004', '00005']\n"
     ]
    }
   ],
   "source": [
    "print(os.listdir(\"Training-1\"))\n",
    "print(os.listdir(\"Testing-1\"))"
   ]
  },
  {
   "cell_type": "markdown",
   "metadata": {},
   "source": [
    "load_dataset method which will be used for loading the traning dataset as well as testing dataset."
   ]
  },
  {
   "cell_type": "code",
   "execution_count": 3,
   "metadata": {},
   "outputs": [],
   "source": [
    "def load_dataset(file_name):\n",
    "    if file_name == \"Training-1\":\n",
    "        directory = \"Training-1\"\n",
    "    elif file_name ==\"Testing-1\":\n",
    "        directory = \"Testing-1\"\n",
    "        \n",
    "    list_images =[]\n",
    "    list_labels=[]\n",
    "    \n",
    "    count = 0\n",
    "        \n",
    "    for sub_dir in tqdm(os.listdir(directory)):\n",
    "\n",
    "        \n",
    "        if sub_dir == 'Readme.txt':\n",
    "            pass\n",
    "        \n",
    "        else:\n",
    "            inner_directory = os.path.join(directory,sub_dir)\n",
    "            for image_file in os.listdir(inner_directory):\n",
    "                \n",
    "                if image_file.endswith(\".ppm\"):\n",
    "                    \n",
    "                    img = cv2.imread(os.path.join(inner_directory,image_file))\n",
    "                    img = cv2.resize(img,(img_size,img_size))\n",
    "                    \n",
    "                    list_images.append(img)\n",
    "                    \n",
    "                    list_labels.append(count)\n",
    "            count +=1   \n",
    "            \n",
    "    list_images = np.array(list_images).reshape(-1,img_size,img_size,3)        \n",
    "                    \n",
    "    list_labels = np.array(list_labels)\n",
    "    list_labels= to_categorical(list_labels,count)        \n",
    "  \n",
    "      \n",
    "    return list_images , list_labels              \n",
    "                    \n",
    "                    \n",
    "                    \n",
    "                    \n",
    "            \n",
    "            \n",
    "            "
   ]
  },
  {
   "cell_type": "markdown",
   "metadata": {},
   "source": [
    "**training_dadaset contain image features which will be used to train the model and training_label contain outputs.**"
   ]
  },
  {
   "cell_type": "code",
   "execution_count": 4,
   "metadata": {},
   "outputs": [
    {
     "name": "stderr",
     "output_type": "stream",
     "text": [
      "100%|████████████████████████████████████████████████████████████████████████████████████| 6/6 [00:00<00:00, 10.40it/s]\n",
      "100%|████████████████████████████████████████████████████████████████████████████████████| 6/6 [00:00<00:00, 18.13it/s]\n"
     ]
    }
   ],
   "source": [
    "training_dataset , training_label =load_dataset(\"Training-1\")\n",
    "testing_dataset , testing_label =load_dataset(\"Testing-1\")\n"
   ]
  },
  {
   "cell_type": "markdown",
   "metadata": {},
   "source": [
    "# Now training dataset is devided into two part ."
   ]
  },
  {
   "cell_type": "code",
   "execution_count": 5,
   "metadata": {},
   "outputs": [],
   "source": [
    "from sklearn.model_selection import train_test_split\n",
    "X_train,X_val, Y_train, Y_val = train_test_split(training_dataset,training_label ,test_size=0.2, random_state=101,shuffle = True)"
   ]
  },
  {
   "cell_type": "markdown",
   "metadata": {},
   "source": [
    "# 1. I am using second type of transfer learning --> finetuning"
   ]
  },
  {
   "cell_type": "markdown",
   "metadata": {},
   "source": [
    "a. i will use pretrained VGG-16 model .and remove last layer (output layer) from vgg-16.i will add some dense layer and only train these dense layer .\n",
    "b. all vgg-16 model will remain freeze."
   ]
  },
  {
   "cell_type": "code",
   "execution_count": 6,
   "metadata": {},
   "outputs": [],
   "source": [
    "from keras.layers import Input ,Dense,Flatten\n",
    "from keras.models import Model\n",
    "from keras.applications.vgg16 import VGG16\n",
    "from keras.applications.vgg16 import preprocess_input\n",
    "from keras.preprocessing import image\n",
    "from keras.preprocessing.image import ImageDataGenerator\n",
    "from keras.models import Sequential\n",
    "from keras.optimizers import Adam\n"
   ]
  },
  {
   "cell_type": "code",
   "execution_count": 7,
   "metadata": {},
   "outputs": [
    {
     "name": "stdout",
     "output_type": "stream",
     "text": [
      "WARNING:tensorflow:From C:\\Users\\Tech Shop\\AppData\\Roaming\\Python\\Python311\\site-packages\\keras\\src\\backend.py:1398: The name tf.executing_eagerly_outside_functions is deprecated. Please use tf.compat.v1.executing_eagerly_outside_functions instead.\n",
      "\n",
      "WARNING:tensorflow:From C:\\Users\\Tech Shop\\AppData\\Roaming\\Python\\Python311\\site-packages\\keras\\src\\layers\\pooling\\max_pooling2d.py:161: The name tf.nn.max_pool is deprecated. Please use tf.nn.max_pool2d instead.\n",
      "\n"
     ]
    }
   ],
   "source": [
    "vgg = VGG16(input_shape = [img_size,img_size,3],weights='imagenet',include_top = False) # include_top = false means remove output layer\n"
   ]
  },
  {
   "cell_type": "code",
   "execution_count": 8,
   "metadata": {},
   "outputs": [],
   "source": [
    "for layer in vgg.layers:\n",
    "    layer.trainable = False"
   ]
  },
  {
   "cell_type": "code",
   "execution_count": 9,
   "metadata": {},
   "outputs": [],
   "source": [
    "X = Flatten()(vgg.output)\n",
    "\n",
    "layer1 = Dense(512,activation = \"relu\")(X)\n",
    "\n",
    "layer2 = Dense(1536,activation = \"relu\")(layer1)\n",
    "\n",
    "layer3 = Dense(3072,activation = \"relu\")(layer2)\n",
    "\n",
    "layer4 = Dense(6144,activation = \"relu\")(layer3)\n",
    "\n",
    "layer5 = Dense(12288,activation = \"relu\")(layer4)\n",
    "\n",
    "prediction = Dense(Y_train.shape[1],activation = \"softmax\")(layer5) # output layer "
   ]
  },
  {
   "cell_type": "code",
   "execution_count": 10,
   "metadata": {},
   "outputs": [],
   "source": [
    "# create the model object\n",
    "\n",
    "model = Model(inputs = vgg.input,outputs = prediction)"
   ]
  },
  {
   "cell_type": "code",
   "execution_count": 11,
   "metadata": {},
   "outputs": [
    {
     "name": "stdout",
     "output_type": "stream",
     "text": [
      "Model: \"model\"\n",
      "_________________________________________________________________\n",
      " Layer (type)                Output Shape              Param #   \n",
      "=================================================================\n",
      " input_1 (InputLayer)        [(None, 224, 224, 3)]     0         \n",
      "                                                                 \n",
      " block1_conv1 (Conv2D)       (None, 224, 224, 64)      1792      \n",
      "                                                                 \n",
      " block1_conv2 (Conv2D)       (None, 224, 224, 64)      36928     \n",
      "                                                                 \n",
      " block1_pool (MaxPooling2D)  (None, 112, 112, 64)      0         \n",
      "                                                                 \n",
      " block2_conv1 (Conv2D)       (None, 112, 112, 128)     73856     \n",
      "                                                                 \n",
      " block2_conv2 (Conv2D)       (None, 112, 112, 128)     147584    \n",
      "                                                                 \n",
      " block2_pool (MaxPooling2D)  (None, 56, 56, 128)       0         \n",
      "                                                                 \n",
      " block3_conv1 (Conv2D)       (None, 56, 56, 256)       295168    \n",
      "                                                                 \n",
      " block3_conv2 (Conv2D)       (None, 56, 56, 256)       590080    \n",
      "                                                                 \n",
      " block3_conv3 (Conv2D)       (None, 56, 56, 256)       590080    \n",
      "                                                                 \n",
      " block3_pool (MaxPooling2D)  (None, 28, 28, 256)       0         \n",
      "                                                                 \n",
      " block4_conv1 (Conv2D)       (None, 28, 28, 512)       1180160   \n",
      "                                                                 \n",
      " block4_conv2 (Conv2D)       (None, 28, 28, 512)       2359808   \n",
      "                                                                 \n",
      " block4_conv3 (Conv2D)       (None, 28, 28, 512)       2359808   \n",
      "                                                                 \n",
      " block4_pool (MaxPooling2D)  (None, 14, 14, 512)       0         \n",
      "                                                                 \n",
      " block5_conv1 (Conv2D)       (None, 14, 14, 512)       2359808   \n",
      "                                                                 \n",
      " block5_conv2 (Conv2D)       (None, 14, 14, 512)       2359808   \n",
      "                                                                 \n",
      " block5_conv3 (Conv2D)       (None, 14, 14, 512)       2359808   \n",
      "                                                                 \n",
      " block5_pool (MaxPooling2D)  (None, 7, 7, 512)         0         \n",
      "                                                                 \n",
      " flatten (Flatten)           (None, 25088)             0         \n",
      "                                                                 \n",
      " dense (Dense)               (None, 512)               12845568  \n",
      "                                                                 \n",
      " dense_1 (Dense)             (None, 1536)              787968    \n",
      "                                                                 \n",
      " dense_2 (Dense)             (None, 3072)              4721664   \n",
      "                                                                 \n",
      " dense_3 (Dense)             (None, 6144)              18880512  \n",
      "                                                                 \n",
      " dense_4 (Dense)             (None, 12288)             75509760  \n",
      "                                                                 \n",
      " dense_5 (Dense)             (None, 6)                 73734     \n",
      "                                                                 \n",
      "=================================================================\n",
      "Total params: 127533894 (486.50 MB)\n",
      "Trainable params: 112819206 (430.37 MB)\n",
      "Non-trainable params: 14714688 (56.13 MB)\n",
      "_________________________________________________________________\n"
     ]
    }
   ],
   "source": [
    "model.summary()"
   ]
  },
  {
   "cell_type": "code",
   "execution_count": 12,
   "metadata": {},
   "outputs": [],
   "source": [
    "opt = Adam(learning_rate=0.0001)\n",
    "model.compile(loss = \"categorical_crossentropy\",optimizer=opt,metrics =['accuracy'])"
   ]
  },
  {
   "cell_type": "code",
   "execution_count": 13,
   "metadata": {},
   "outputs": [
    {
     "name": "stdout",
     "output_type": "stream",
     "text": [
      "Epoch 1/20\n",
      "WARNING:tensorflow:From C:\\Users\\Tech Shop\\AppData\\Roaming\\Python\\Python311\\site-packages\\keras\\src\\utils\\tf_utils.py:492: The name tf.ragged.RaggedTensorValue is deprecated. Please use tf.compat.v1.ragged.RaggedTensorValue instead.\n",
      "\n",
      "WARNING:tensorflow:From C:\\Users\\Tech Shop\\AppData\\Roaming\\Python\\Python311\\site-packages\\keras\\src\\engine\\base_layer_utils.py:384: The name tf.executing_eagerly_outside_functions is deprecated. Please use tf.compat.v1.executing_eagerly_outside_functions instead.\n",
      "\n",
      "44/44 [==============================] - 209s 5s/step - loss: 0.7647 - accuracy: 0.8988 - val_loss: 0.0077 - val_accuracy: 0.9971\n",
      "Epoch 2/20\n",
      "44/44 [==============================] - 208s 5s/step - loss: 7.9636e-04 - accuracy: 1.0000 - val_loss: 0.0028 - val_accuracy: 1.0000\n",
      "Epoch 3/20\n",
      "44/44 [==============================] - 206s 5s/step - loss: 5.0434e-05 - accuracy: 1.0000 - val_loss: 0.0016 - val_accuracy: 1.0000\n",
      "Epoch 4/20\n",
      "44/44 [==============================] - 210s 5s/step - loss: 1.7791e-05 - accuracy: 1.0000 - val_loss: 0.0016 - val_accuracy: 1.0000\n",
      "Epoch 5/20\n",
      "44/44 [==============================] - 207s 5s/step - loss: 9.7999e-06 - accuracy: 1.0000 - val_loss: 0.0016 - val_accuracy: 1.0000\n",
      "Epoch 6/20\n",
      "44/44 [==============================] - 208s 5s/step - loss: 6.6656e-06 - accuracy: 1.0000 - val_loss: 0.0017 - val_accuracy: 1.0000\n",
      "Epoch 7/20\n",
      "44/44 [==============================] - 207s 5s/step - loss: 4.5482e-06 - accuracy: 1.0000 - val_loss: 0.0018 - val_accuracy: 1.0000\n",
      "Epoch 8/20\n",
      "44/44 [==============================] - 209s 5s/step - loss: 3.4178e-06 - accuracy: 1.0000 - val_loss: 0.0019 - val_accuracy: 1.0000\n",
      "Epoch 9/20\n",
      "44/44 [==============================] - 208s 5s/step - loss: 2.6013e-06 - accuracy: 1.0000 - val_loss: 0.0020 - val_accuracy: 1.0000\n",
      "Epoch 10/20\n",
      "44/44 [==============================] - 216s 5s/step - loss: 2.0410e-06 - accuracy: 1.0000 - val_loss: 0.0020 - val_accuracy: 1.0000\n",
      "Epoch 11/20\n",
      "44/44 [==============================] - 218s 5s/step - loss: 1.6528e-06 - accuracy: 1.0000 - val_loss: 0.0021 - val_accuracy: 1.0000\n",
      "Epoch 12/20\n",
      "44/44 [==============================] - 223s 5s/step - loss: 1.3526e-06 - accuracy: 1.0000 - val_loss: 0.0022 - val_accuracy: 1.0000\n",
      "Epoch 13/20\n",
      "44/44 [==============================] - 219s 5s/step - loss: 1.1215e-06 - accuracy: 1.0000 - val_loss: 0.0022 - val_accuracy: 1.0000\n",
      "Epoch 14/20\n",
      "44/44 [==============================] - 218s 5s/step - loss: 9.4207e-07 - accuracy: 1.0000 - val_loss: 0.0023 - val_accuracy: 1.0000\n",
      "Epoch 15/20\n",
      "44/44 [==============================] - 220s 5s/step - loss: 8.0255e-07 - accuracy: 1.0000 - val_loss: 0.0023 - val_accuracy: 1.0000\n",
      "Epoch 16/20\n",
      "44/44 [==============================] - 224s 5s/step - loss: 6.8706e-07 - accuracy: 1.0000 - val_loss: 0.0023 - val_accuracy: 1.0000\n",
      "Epoch 17/20\n",
      "44/44 [==============================] - 219s 5s/step - loss: 6.0067e-07 - accuracy: 1.0000 - val_loss: 0.0024 - val_accuracy: 0.9971\n",
      "Epoch 18/20\n",
      "44/44 [==============================] - 219s 5s/step - loss: 5.2152e-07 - accuracy: 1.0000 - val_loss: 0.0024 - val_accuracy: 0.9971\n",
      "Epoch 19/20\n",
      "44/44 [==============================] - 219s 5s/step - loss: 4.6494e-07 - accuracy: 1.0000 - val_loss: 0.0024 - val_accuracy: 0.9971\n",
      "Epoch 20/20\n",
      "44/44 [==============================] - 222s 5s/step - loss: 4.1739e-07 - accuracy: 1.0000 - val_loss: 0.0024 - val_accuracy: 0.9971\n"
     ]
    }
   ],
   "source": [
    "ans = model.fit(X_train ,Y_train , batch_size = 64,epochs =20,validation_data=(X_val,Y_val))"
   ]
  },
  {
   "cell_type": "code",
   "execution_count": 18,
   "metadata": {},
   "outputs": [
    {
     "data": {
      "image/png": "[encoded data removed]",
      "text/plain": [
       "<Figure size 640x480 with 1 Axes>"
      ]
     },
     "metadata": {},
     "output_type": "display_data"
    }
   ],
   "source": [
    "# Get training and test loss histories\n",
    "training_loss = ans.history['loss']\n",
    "validation_loss = ans.history['val_loss']\n",
    "\n",
    "# Create count of the number of epochs\n",
    "epoch_count = range(1, len(training_loss) + 1)\n",
    "\n",
    "# Visualize loss history\n",
    "plt.plot(epoch_count, training_loss, 'r--')\n",
    "plt.plot(epoch_count, validation_loss, 'b-')\n",
    "plt.legend(['Training Loss', 'Validation Loss'])\n",
    "plt.xlabel('Epoch')\n",
    "plt.ylabel('Loss')\n",
    "plt.show();"
   ]
  },
  {
   "cell_type": "code",
   "execution_count": 20,
   "metadata": {},
   "outputs": [
    {
     "data": {
      "image/png": "[encoded data removed]",
      "text/plain": [
       "<Figure size 640x480 with 1 Axes>"
      ]
     },
     "metadata": {},
     "output_type": "display_data"
    }
   ],
   "source": [
    "# Get training and test loss histories\n",
    "training_loss = ans.history['accuracy']\n",
    "validation_loss = ans.history['val_accuracy']\n",
    "\n",
    "# Create count of the number of epochs\n",
    "epoch_count = range(1, len(training_loss) + 1)\n",
    "\n",
    "# Visualize loss history\n",
    "plt.plot(epoch_count, training_loss, 'r--')\n",
    "plt.plot(epoch_count, validation_loss, 'b-')\n",
    "plt.legend(['Training Accuracy', 'Validation Accuracy'])\n",
    "plt.xlabel('Epoch')\n",
    "plt.ylabel('Accuracy')\n",
    "plt.show();"
   ]
  },
  {
   "cell_type": "code",
   "execution_count": 17,
   "metadata": {},
   "outputs": [
    {
     "name": "stdout",
     "output_type": "stream",
     "text": [
      "32/32 [==============================] - 100s 3s/step\n",
      "Accuracy on Test  100.0 %\n"
     ]
    }
   ],
   "source": [
    "predict = np.argmax(model.predict(testing_dataset), axis = 1)\n",
    "count = 0\n",
    "for i in range(0,predict.shape[0]):\n",
    "    if (predict[i] == np.argmax(testing_label[i])):\n",
    "        count +=1\n",
    "print ('Accuracy on Test ',100 * count/predict.shape[0],'%')"
   ]
  },
  {
   "cell_type": "code",
   "execution_count": null,
   "metadata": {},
   "outputs": [],
   "source": []
  }
 ],
 "metadata": {
  "kernelspec": {
   "display_name": "Python 3 (ipykernel)",
   "language": "python",
   "name": "python3"
  },
  "language_info": {
   "codemirror_mode": {
    "name": "ipython",
    "version": 3
   },
   "file_extension": ".py",
   "mimetype": "text/x-python",
   "name": "python",
   "nbconvert_exporter": "python",
   "pygments_lexer": "ipython3",
   "version": "3.11.5"
  }
 },
 "nbformat": 4,
 "nbformat_minor": 4
}
